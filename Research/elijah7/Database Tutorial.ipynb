{
 "cells": [
  {
   "cell_type": "code",
   "execution_count": 1,
   "id": "a3fe0613",
   "metadata": {},
   "outputs": [],
   "source": [
    "import sqlite3 as sql"
   ]
  },
  {
   "cell_type": "code",
   "execution_count": 10,
   "id": "7555f695",
   "metadata": {},
   "outputs": [],
   "source": [
    "conn = sql.connect(\"Elijah.db\")\n",
    "cur = conn.cursor()"
   ]
  },
  {
   "cell_type": "code",
   "execution_count": 11,
   "id": "076cf10b",
   "metadata": {},
   "outputs": [
    {
     "data": {
      "text/plain": [
       "[('spiderman_villains',)]"
      ]
     },
     "execution_count": 11,
     "metadata": {},
     "output_type": "execute_result"
    }
   ],
   "source": [
    "cur.execute(\"SELECT name FROM sqlite_schema WHERE type ='table' AND name NOT LIKE 'sqlite_%';\")\n",
    "cur.fetchall()"
   ]
  },
  {
   "cell_type": "code",
   "execution_count": 12,
   "id": "19b4e05b",
   "metadata": {},
   "outputs": [
    {
     "ename": "OperationalError",
     "evalue": "table spiderman_villains already exists",
     "output_type": "error",
     "traceback": [
      "\u001b[1;31m---------------------------------------------------------------------------\u001b[0m",
      "\u001b[1;31mOperationalError\u001b[0m                          Traceback (most recent call last)",
      "Cell \u001b[1;32mIn [12], line 1\u001b[0m\n\u001b[1;32m----> 1\u001b[0m \u001b[43mcur\u001b[49m\u001b[38;5;241;43m.\u001b[39;49m\u001b[43mexecute\u001b[49m\u001b[43m(\u001b[49m\u001b[38;5;124;43m\"\u001b[39;49m\u001b[38;5;124;43mCREATE TABLE spiderman_villains(name varchar(50), identity varchar(60), superpower varchar(80), PRIMARY KEY(name));\u001b[39;49m\u001b[38;5;124;43m\"\u001b[39;49m\u001b[43m)\u001b[49m\n",
      "\u001b[1;31mOperationalError\u001b[0m: table spiderman_villains already exists"
     ]
    }
   ],
   "source": [
    "cur.execute(\"CREATE TABLE spiderman_villains(name varchar(50), identity varchar(60), superpower varchar(80), PRIMARY KEY(name));\")"
   ]
  },
  {
   "cell_type": "code",
   "execution_count": 7,
   "id": "c0e51491",
   "metadata": {},
   "outputs": [],
   "source": [
    "conn.commit()"
   ]
  },
  {
   "cell_type": "code",
   "execution_count": 8,
   "id": "c3ba7579",
   "metadata": {},
   "outputs": [],
   "source": [
    "conn.close()"
   ]
  },
  {
   "cell_type": "code",
   "execution_count": 13,
   "id": "b1c9871b",
   "metadata": {},
   "outputs": [
    {
     "data": {
      "text/plain": [
       "<sqlite3.Cursor at 0x22759ee6f40>"
      ]
     },
     "execution_count": 13,
     "metadata": {},
     "output_type": "execute_result"
    }
   ],
   "source": [
    "cur.execute(\"INSERT INTO spiderman_villains VALUES ('Doctor Octopus', 'Otto Octavius', 'Mechanical Arms');\")"
   ]
  },
  {
   "cell_type": "code",
   "execution_count": 19,
   "id": "b9d158cf",
   "metadata": {},
   "outputs": [
    {
     "data": {
      "text/plain": [
       "[('Doctor Octopus', 'Otto Octavius', 'Mechanical Arms'),\n",
       " ('Green - Goblin', 'Norman Osborn', 'Glider and Bombs'),\n",
       " ('Green Goblin', 'Norman Osborn', 'Glider and bombs')]"
      ]
     },
     "execution_count": 19,
     "metadata": {},
     "output_type": "execute_result"
    }
   ],
   "source": [
    "cur.execute(\"SELECT * FROM spiderman_villains;\")\n",
    "cur.fetchall()"
   ]
  },
  {
   "cell_type": "code",
   "execution_count": 18,
   "id": "a512d642",
   "metadata": {},
   "outputs": [
    {
     "data": {
      "text/plain": [
       "<sqlite3.Cursor at 0x22759ee6f40>"
      ]
     },
     "execution_count": 18,
     "metadata": {},
     "output_type": "execute_result"
    }
   ],
   "source": [
    "values = [\"Green Goblin\", \"Norman Osborn\", \"Glider and bombs\"]\n",
    "cur.execute(\"INSERT INTO spiderman_villains VALUES (?, ?, ?);\", values)"
   ]
  },
  {
   "cell_type": "code",
   "execution_count": 20,
   "id": "12f62162",
   "metadata": {},
   "outputs": [],
   "source": [
    "conn.commit()"
   ]
  },
  {
   "cell_type": "code",
   "execution_count": 21,
   "id": "64283728",
   "metadata": {},
   "outputs": [],
   "source": [
    "conn.close()"
   ]
  },
  {
   "cell_type": "code",
   "execution_count": null,
   "id": "cc4672c4",
   "metadata": {},
   "outputs": [],
   "source": []
  }
 ],
 "metadata": {
  "kernelspec": {
   "display_name": "Python 3 (ipykernel)",
   "language": "python",
   "name": "python3"
  },
  "language_info": {
   "codemirror_mode": {
    "name": "ipython",
    "version": 3
   },
   "file_extension": ".py",
   "mimetype": "text/x-python",
   "name": "python",
   "nbconvert_exporter": "python",
   "pygments_lexer": "ipython3",
   "version": "3.10.8"
  }
 },
 "nbformat": 4,
 "nbformat_minor": 5
}
